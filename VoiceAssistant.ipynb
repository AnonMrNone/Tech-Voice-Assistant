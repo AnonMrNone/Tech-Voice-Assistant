{
 "cells": [
  {
   "cell_type": "code",
   "execution_count": null,
   "metadata": {},
   "outputs": [
    {
     "name": "stdout",
     "output_type": "stream",
     "text": [
      "Let me know: who are you?\n",
      "Let me know: open msword\n"
     ]
    }
   ],
   "source": [
    "import pyttsx3 \n",
    "import datetime\n",
    "import os\n",
    "def keywordExtract(str):\n",
    "    if \"chrome\" in str or \"browser\" in str: \n",
    "        return \"chrome\"\n",
    "    elif \"cmd\" in str or \"command prompt\" in str:\n",
    "        return \"cmd\"\n",
    "    elif \"notepad\" in str or \"editor\" in str:\n",
    "        return \"notepad\"\n",
    "    elif \"anaconda\" in str or \"jupyter notebook\" in str:\n",
    "        return \"jupyter notebook\"\n",
    "    elif \"vm\" in str or \"virtual box\" in str:\n",
    "        pyttsx3.speak(\"Which specific VM to launch?\")\n",
    "        print(os.system(\"VBoxManage list vms\"))\n",
    "        vm = input(\"Enter the VM name: \")\n",
    "        return \"VBoxManage startvm {0}\".format(vm)\n",
    "    elif \"excel\" in str:\n",
    "        return \"excel\"\n",
    "    elif \"msword\" in str or \"microsoft word\" in str:\n",
    "        return \"winword\"\n",
    "    elif \"mspowerpoint\" in str or \"microsoft power point\" in str or \"power point\" in str:\n",
    "        return \"powerpnt\"\n",
    "    elif \"your name\" in str or \"are you\" in str:\n",
    "        pyttsx3.speak(\"I am Jarves, created by Shubham Bhalala\")\n",
    "        return \"chrome linkedin.com/in/shubham-bhalala-a5062916b\"\n",
    "    elif \"calculator\" in str or \"calci\" in str:\n",
    "        return \"calc\"\n",
    "    else:\n",
    "        return None\n",
    "def commandExecute():\n",
    "    while True:\n",
    "        inputUser = input(\"Let me know: \")\n",
    "        inputUser.lower()\n",
    "        if(\"launch\" in inputUser or \"run\" in inputUser or \"show\" in inputUser or \"execute\" in inputUser or \"open\" in inputUser or \"start\" in inputUser or \"who\" in inputUser):\n",
    "            if(keywordExtract(inputUser) == None):\n",
    "                pyttsx3.speak(\"Sorry, I cannot understand the requirement.\")\n",
    "                pyttsx3.speak(\"Please check the input or else, I will update myself in next version\")\n",
    "                continue\n",
    "            else:\n",
    "                os.system(keywordExtract(inputUser))\n",
    "        elif(\"stop yourself\" in inputUser or \"exit\" in inputUser or \"terminate yourself\" in inputUser):\n",
    "            break\n",
    "        else:\n",
    "            pyttsx3.speak(\"Sorry, I cannot understand the requirement.\")\n",
    "            pyttsx3.speak(\"Please check the input or else, I will update myself in next version\")\n",
    "        \n",
    "currentTime = datetime.datetime.now()\n",
    "if currentTime.hour < 12:\n",
    "    pyttsx3.speak(\"Hello Good Morning! I am Jarves\")\n",
    "    pyttsx3.speak(\"It's a great day ahead, what can I do for you?\")\n",
    "    commandExecute()\n",
    "elif 12 <= currentTime.hour < 18:\n",
    "    pyttsx3.speak(\"Hello Good Afternoon!\")\n",
    "    pyttsx3.speak(\"I hope your day is going well, what can I do for you?\")\n",
    "    commandExecute()\n",
    "else:\n",
    "    pyttsx3.speak(\"Hello Good Evening!\")\n",
    "    pyttsx3.speak(\"That was too much for the day, can I do something for you?\")\n",
    "    commandExecute()"
   ]
  },
  {
   "cell_type": "code",
   "execution_count": null,
   "metadata": {},
   "outputs": [],
   "source": []
  }
 ],
 "metadata": {
  "kernelspec": {
   "display_name": "Python 3",
   "language": "python",
   "name": "python3"
  },
  "language_info": {
   "codemirror_mode": {
    "name": "ipython",
    "version": 3
   },
   "file_extension": ".py",
   "mimetype": "text/x-python",
   "name": "python",
   "nbconvert_exporter": "python",
   "pygments_lexer": "ipython3",
   "version": "3.7.4"
  }
 },
 "nbformat": 4,
 "nbformat_minor": 2
}
